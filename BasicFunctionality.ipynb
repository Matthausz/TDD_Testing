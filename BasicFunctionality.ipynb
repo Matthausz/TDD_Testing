{
 "cells": [
  {
   "cell_type": "code",
   "execution_count": 2,
   "metadata": {},
   "outputs": [],
   "source": [
    "import numpy as np\n",
    "from TDD.TDD import Ini_TDD,Clear_TDD,set_index_order\n",
    "from TDD.TDD_Q import cir_2_tn,add_trace_line,add_inputs,add_outputs\n",
    "#get_real_qubit_num\n",
    "from TDD.TN import Index,Tensor,TensorNetwork\n",
    "import time\n",
    "import random\n",
    "from qiskit.circuit.library import IQP\n",
    "from qiskit.quantum_info import Statevector\n",
    "from qiskit import QuantumCircuit\n",
    "from qiskit import transpile\n",
    "from qiskit_aer import AerSimulator"
   ]
  },
  {
   "cell_type": "markdown",
   "metadata": {},
   "source": [
    "1. Input and output functionality does not currently allow for a non computational state basis input.\n",
    "\n",
    "2. Provided with effiecent query for the amplitude of a a specific state, as well as smapling. Does not seem effeicent to get the whole statevector."
   ]
  },
  {
   "cell_type": "code",
   "execution_count": 3,
   "metadata": {},
   "outputs": [],
   "source": [
    "input_s=[]\n",
    "output_s=[]\n",
    "input_s=[0]  #input of zero state yeilds zero state again\n",
    "#input_s=np.array(1/np.sqrt(2),1/np.sqrt(2)) # input of length 2 corresponding to hilbert space does not work\n",
    "#output_s=[0]*n\n",
    "# output_s=[random.randint(0,1) for k in range(n)]"
   ]
  },
  {
   "cell_type": "code",
   "execution_count": 4,
   "metadata": {},
   "outputs": [
    {
     "data": {
      "image/png": "[encoded data removed]",
      "text/plain": [
       "<IPython.core.display.Image object>"
      ]
     },
     "execution_count": 4,
     "metadata": {},
     "output_type": "execute_result"
    }
   ],
   "source": [
    "Ini_TDD(['x0','y0','x1','y1'])\n",
    "U=1/np.sqrt(2)*np.array([[1,1],[1,-1]])\n",
    "id1=np.array([[1,0],[0,1]])\n",
    "var=[Index('x0'),Index('y0')]\n",
    "var2=[Index('y0'),Index('x1')]\n",
    "ts1=Tensor(U,var)\n",
    "ts2=Tensor(id1,var2)\n",
    "tn=TensorNetwork([ts1,ts2])\n",
    "tn.cont().show()"
   ]
  },
  {
   "cell_type": "markdown",
   "metadata": {},
   "source": [
    "we can also get the matrix of any given TDD with .to_array()"
   ]
  },
  {
   "cell_type": "code",
   "execution_count": 5,
   "metadata": {},
   "outputs": [
    {
     "data": {
      "text/plain": [
       "array([0.70710678+0.j, 0.70710678+0.j])"
      ]
     },
     "execution_count": 5,
     "metadata": {},
     "output_type": "execute_result"
    }
   ],
   "source": [
    "input_s=[0] \n",
    "add_inputs(tn,input_s,1)\n",
    "#add_outputs(tn,output_s,1)\n",
    "\n",
    "tn.cont().get_statevector(1)"
   ]
  },
  {
   "cell_type": "markdown",
   "metadata": {},
   "source": [
    "This is further demonstrated by the QFT, ran below with 13 qubits. Not only is qiskit faster, but the TDD also gives a wildly wrong output. As above the probability of going from |0> to |0> is all that is shown,completely missing the superposition that the circuit actually produces!"
   ]
  },
  {
   "cell_type": "code",
   "execution_count": 4,
   "metadata": {},
   "outputs": [
    {
     "name": "stdout",
     "output_type": "stream",
     "text": [
      "what no way\n",
      "time:  3.4144270420074463\n",
      "an amp:  (0.0009765624999999985+0j)\n",
      "The statevector:  [0.00097656+0.j 0.00097656+0.j 0.00097656+0.j ... 0.00097656+0.j\n",
      " 0.00097656+0.j 0.00097656+0.j]\n"
     ]
    }
   ],
   "source": [
    "path='Benchmarks/'\n",
    "file_name=\"QFT_20.qasm\"\n",
    "cir=QuantumCircuit.from_qasm_file(path+file_name)\n",
    "tn,all_indexs=cir_2_tn(cir)\n",
    "n=cir.num_qubits\n",
    "input_s=[]\n",
    "output_s=[]\n",
    "input_s=[0]*n\n",
    "#input_s=[random.randint(0,1) for k in range(n)]\n",
    "#output_s=[0]*n\n",
    "# output_s=[random.randint(0,1) for k in range(n)]\n",
    "if input_s:\n",
    "    add_inputs(tn,input_s,n)\n",
    "if output_s:\n",
    "    add_outputs(tn,output_s,n)\n",
    "Ini_TDD(index_order=all_indexs)\n",
    "t_start=time.time()\n",
    "tdd=tn.cont(optimizer='tree_decomposition')\n",
    "print(\"time: \",time.time()-t_start)\n",
    "print(\"an amp: \",tdd.get_amplitude([1,0,0,1,1]))\n",
    "print(\"The statevector: \", tdd.get_statevector(n))\n",
    "#tdd.sampling(100)"
   ]
  },
  {
   "cell_type": "code",
   "execution_count": 7,
   "metadata": {},
   "outputs": [
    {
     "name": "stdout",
     "output_type": "stream",
     "text": [
      "0\n"
     ]
    }
   ],
   "source": [
    "import itertools\n",
    "import numpy\n",
    "\n",
    "which = list(itertools.product(*[(0, 1)] * n))\n",
    "print(list(which[0]).pop())"
   ]
  },
  {
   "cell_type": "code",
   "execution_count": 5,
   "metadata": {},
   "outputs": [
    {
     "name": "stdout",
     "output_type": "stream",
     "text": [
      "Statevector([0.00097656+0.j, 0.00097656+0.j, 0.00097656+0.j, ...,\n",
      "             0.00097656+0.j, 0.00097656+0.j, 0.00097656+0.j],\n",
      "            dims=(2, 2, 2, 2, 2, 2, 2, 2, 2, 2, 2, 2, 2, 2, 2, 2, 2, 2, 2, 2))\n"
     ]
    }
   ],
   "source": [
    "backend = AerSimulator(method='statevector')\n",
    "cir20=QuantumCircuit.from_qasm_file(path+file_name)\n",
    "cir20.save_statevector()\n",
    "qc=transpile(cir20,backend=backend)\n",
    "job=backend.run(qc)\n",
    "result=job.result()\n",
    "cir20.num_qubits\n",
    "print(result.get_statevector())"
   ]
  },
  {
   "cell_type": "code",
   "execution_count": 13,
   "metadata": {},
   "outputs": [],
   "source": [
    "def generate_interaction_matrix(size):\n",
    "    # Generate a random symmetric matrix\n",
    "    interaction_matrix = np.random.rand(size, size)\n",
    "    interaction_matrix = (interaction_matrix + interaction_matrix.T) / 2  # Ensure symmetry\n",
    "\n",
    "    # Set diagonal elements to 0 (no self-interaction)\n",
    "    np.fill_diagonal(interaction_matrix, 0)\n",
    "\n",
    "    return interaction_matrix\n",
    "\n",
    "# Example usage:\n",
    "n = 22  # Change this to desired size\n",
    "interactions= generate_interaction_matrix(n)\n",
    "cir3=IQP(interactions)"
   ]
  },
  {
   "cell_type": "code",
   "execution_count": 9,
   "metadata": {},
   "outputs": [
    {
     "name": "stdout",
     "output_type": "stream",
     "text": [
      "what no way\n",
      "5\n",
      "time:  0.3028388023376465\n",
      "an amp:  (-0.11359564329411541+0.3607604715845404j)\n",
      "The statevector:  [ 1.87836202e-01+0.26436718j  2.28372839e-01+0.06520312j\n",
      "  1.71290398e-01+0.04675129j  5.81261695e-02-0.04478722j\n",
      "  2.11309484e-01+0.05680538j  6.25355839e-02-0.04803623j\n",
      "  1.01706513e-03-0.05120238j  2.05290342e-02-0.12781694j\n",
      "  1.24649055e-01+0.0382825j  -3.06566291e-04-0.06222669j\n",
      "  1.81890232e-02-0.09047318j  1.97108091e-02+0.02609341j\n",
      "  2.83103420e-02-0.05631252j  8.61203576e-03-0.02953414j\n",
      "  3.67367189e-02+0.04005429j -1.76918193e-01-0.02716787j\n",
      "  2.47393122e-01+0.08391007j  1.53370116e-01-0.1058758j\n",
      " -3.84494849e-04-0.07332153j -6.47000293e-02-0.14138767j\n",
      "  1.58298599e-01-0.08949662j -2.63973564e-01-0.1419768j\n",
      " -5.74248807e-02-0.0538963j  -1.13595643e-01+0.36076047j\n",
      "  3.65235492e-02-0.06506069j -6.01824156e-02-0.03315023j\n",
      " -2.81899818e-03+0.04339949j -1.17068778e-01+0.04827597j\n",
      " -2.13108189e-02-0.11950527j -1.01437563e-01+0.24260674j\n",
      " -1.39614366e-01+0.0256983j   3.46926166e-01+0.01901989j]\n"
     ]
    }
   ],
   "source": [
    "tn,all_indexs=cir_2_tn(cir3)\n",
    "n=cir3.num_qubits\n",
    "print(n)\n",
    "output_s=[]\n",
    "input_s=[0]*n\n",
    "#input_s=[random.randint(0,1) for k in range(n)]\n",
    "#output_s=[0]*n\n",
    "# output_s=[random.randint(0,1) for k in range(n)]\n",
    "if input_s:\n",
    "    add_inputs(tn,input_s,n)\n",
    "if output_s:\n",
    "    add_outputs(tn,output_s,n)\n",
    "t_start=time.time()\n",
    "tdd=tn.cont(optimizer='tree_decomposition')\n",
    "print(\"time: \",time.time()-t_start)\n",
    "print(\"an amp: \",tdd.get_amplitude([0,0]))\n",
    "print(\"The statevector: \", tdd.get_statevector(n))"
   ]
  },
  {
   "cell_type": "code",
   "execution_count": 14,
   "metadata": {},
   "outputs": [
    {
     "name": "stdout",
     "output_type": "stream",
     "text": [
      "Statevector([-0.07565564-0.0418763j , -0.01644166-0.01285607j,\n",
      "             -0.02096351-0.00387019j, ...,  0.00752401-0.0059226j ,\n",
      "              0.00262937-0.0063681j , -0.01481936+0.03783714j],\n",
      "            dims=(2, 2, 2, 2, 2, 2, 2, 2, 2, 2, 2, 2, 2, 2, 2, 2, 2, 2, 2, 2, 2, 2))\n"
     ]
    }
   ],
   "source": [
    "cir3.save_statevector()\n",
    "qc3=transpile(cir3,backend=backend)\n",
    "job3=backend.run(qc3)\n",
    "result3=job3.result()\n",
    "cir3.num_qubits\n",
    "print(result3.get_statevector())"
   ]
  }
 ],
 "metadata": {
  "kernelspec": {
   "display_name": "Python 3",
   "language": "python",
   "name": "python3"
  },
  "language_info": {
   "codemirror_mode": {
    "name": "ipython",
    "version": 3
   },
   "file_extension": ".py",
   "mimetype": "text/x-python",
   "name": "python",
   "nbconvert_exporter": "python",
   "pygments_lexer": "ipython3",
   "version": "3.9.6"
  }
 },
 "nbformat": 4,
 "nbformat_minor": 2
}
